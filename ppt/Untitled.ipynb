{
 "cells": [
  {
   "cell_type": "code",
   "execution_count": 1,
   "id": "7ccc0f72-60b6-4cc6-a13c-36af6c37e965",
   "metadata": {},
   "outputs": [
    {
     "name": "stdout",
     "output_type": "stream",
     "text": [
      "Collecting patool\n",
      "  Downloading patool-3.1.3-py2.py3-none-any.whl.metadata (4.5 kB)\n",
      "Downloading patool-3.1.3-py2.py3-none-any.whl (86 kB)\n",
      "Installing collected packages: patool\n",
      "Successfully installed patool-3.1.3\n"
     ]
    }
   ],
   "source": [
    "!pip install patool"
   ]
  },
  {
   "cell_type": "code",
   "execution_count": 2,
   "id": "92b21c2f-19f0-40d8-8a03-3fb3799b3c39",
   "metadata": {},
   "outputs": [
    {
     "name": "stdout",
     "output_type": "stream",
     "text": [
      "INFO patool: Extracting rstudio-export.zip ...\n",
      "INFO patool: ... rstudio-export.zip extracted to `rstudio-export' (multiple files in root).\n"
     ]
    }
   ],
   "source": [
    "!patool extract rstudio-export.zip"
   ]
  },
  {
   "cell_type": "code",
   "execution_count": null,
   "id": "d74a0333-9722-4059-9365-eb93a370e708",
   "metadata": {},
   "outputs": [],
   "source": []
  }
 ],
 "metadata": {
  "kernelspec": {
   "display_name": "Python 3 (ipykernel)",
   "language": "python",
   "name": "python3"
  },
  "language_info": {
   "codemirror_mode": {
    "name": "ipython",
    "version": 3
   },
   "file_extension": ".py",
   "mimetype": "text/x-python",
   "name": "python",
   "nbconvert_exporter": "python",
   "pygments_lexer": "ipython3",
   "version": "3.11.11"
  }
 },
 "nbformat": 4,
 "nbformat_minor": 5
}
